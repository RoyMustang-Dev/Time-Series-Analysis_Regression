{
 "cells": [
  {
   "attachments": {},
   "cell_type": "markdown",
   "metadata": {},
   "source": [
    "# Predicting the Sales Price of Bulldozers using Machine Learning\n",
    "\n",
    "In this notebook, we are going to go through the sales price prediction of Bulldozers using Machine Learning.\n",
    "\n",
    "## 1. Problem Definition\n",
    "> How well can we predict the future sale price of a bulldozer, given its characteristics and previous examples of how much similar bulldozers have been sold for? \n",
    "\n",
    "## 2. Data\n",
    "\n",
    "The data is downloaded from Kaggle Bluebook for Bulldozers Competition: https://www.kaggle.com/competitions/bluebook-for-bulldozers/data\n",
    "\n",
    "The data for this competition is split into three main datasets:\n",
    "\n",
    "* Train.csv is the training set, which contains data through the end of 2011.\n",
    "\n",
    "* Valid.csv is the validation set, which contains data from January 1, 2012 - April 30, 2012 You make predictions on this set throughout the majority of the competition. Your score on this set is used to create the public leaderboard.\n",
    "\n",
    "* Test.csv is the test set, which won't be released until the last week of the competition. It contains data from May 1, 2012 - November 2012. Your score on the test set determines your final rank for the competition.\n",
    "\n",
    "## 3. Evaluation\n",
    "The evaluation metric for this competition is the RMSLE (root mean squared log error) between the actual and predicted auction prices.\n",
    "\n",
    "For more info on the Evaluation of this project, check: https://www.kaggle.com/competitions/bluebook-for-bulldozers/overview/evaluation\n",
    "\n",
    "```\n",
    "**Note:** - The goal for most regression evaluation metrics is to minimize the error. For example, our goal for this project will be to build a machine learning model which minimises RMSLE.\n",
    "```\n",
    "\n",
    "## 4. Features\n",
    "\n",
    "Kaggle provides a data dictionary detailing all of the features of the dataset. You can view this data dictionary on Google Sheets:\n",
    "https://docs.google.com/spreadsheets/d/1HVWeZjp3R0Uf4CmQiKQuADA-19U-yInR/edit?usp=sharing&ouid=114267495229207470063&rtpof=true&sd=true"
   ]
  },
  {
   "cell_type": "code",
   "execution_count": 2,
   "metadata": {},
   "outputs": [],
   "source": [
    "# Importing the Necessary Libraries\n",
    "import numpy as np\n",
    "import pandas as pd\n",
    "import matplotlib.pyplot as plt\n",
    "import sklearn"
   ]
  }
 ],
 "metadata": {
  "kernelspec": {
   "display_name": "Python 3",
   "language": "python",
   "name": "python3"
  },
  "language_info": {
   "codemirror_mode": {
    "name": "ipython",
    "version": 3
   },
   "file_extension": ".py",
   "mimetype": "text/x-python",
   "name": "python",
   "nbconvert_exporter": "python",
   "pygments_lexer": "ipython3",
   "version": "3.9.0"
  },
  "orig_nbformat": 4,
  "vscode": {
   "interpreter": {
    "hash": "54726a9e8687d402250428985f378d090f83aa976c856d8c669d30f9057ee524"
   }
  }
 },
 "nbformat": 4,
 "nbformat_minor": 2
}
